{
  "nbformat": 4,
  "nbformat_minor": 0,
  "metadata": {
    "colab": {
      "name": "Copy of Sassorossi_BigData_Assignment2.ipynb",
      "provenance": [],
      "collapsed_sections": [],
      "authorship_tag": "ABX9TyOsMEUvBPCpWg0sxmHlbpkM"
    },
    "kernelspec": {
      "name": "python3",
      "display_name": "Python 3"
    }
  },
  "cells": [
    {
      "cell_type": "code",
      "metadata": {
        "id": "OqTPtPkzzerG",
        "colab_type": "code",
        "colab": {}
      },
      "source": [
        "!apt-get install openjdk-8-jdk-headless -qq > /dev/null\n",
        "!rm spark-2.4.5-bin-hadoop2.7.tgz\n",
        "!wget --no-cookies --no-check-certificate https://downloads.apache.org/spark/spark-2.4.5/spark-2.4.5-bin-hadoop2.7.tgz\n",
        "!tar zxvf spark-2.4.5-bin-hadoop2.7.tgz\n",
        "!pip install -q findspark\n",
        "!pip install pyspark"
      ],
      "execution_count": 0,
      "outputs": []
    },
    {
      "cell_type": "code",
      "metadata": {
        "id": "-XhBihlL0Jjt",
        "colab_type": "code",
        "outputId": "6b8fab05-8cb9-4b7b-c739-aa46f6c62e39",
        "colab": {
          "base_uri": "https://localhost:8080/",
          "height": 226
        }
      },
      "source": [
        "!wget https://raw.githubusercontent.com/zaratsian/Datasets/master/banking_attrition.csv"
      ],
      "execution_count": 0,
      "outputs": [
        {
          "output_type": "stream",
          "text": [
            "--2020-03-30 22:14:23--  https://raw.githubusercontent.com/zaratsian/Datasets/master/banking_attrition.csv\n",
            "Resolving raw.githubusercontent.com (raw.githubusercontent.com)... 151.101.0.133, 151.101.64.133, 151.101.128.133, ...\n",
            "Connecting to raw.githubusercontent.com (raw.githubusercontent.com)|151.101.0.133|:443... connected.\n",
            "HTTP request sent, awaiting response... 200 OK\n",
            "Length: 4021593 (3.8M) [text/plain]\n",
            "Saving to: ‘banking_attrition.csv.1’\n",
            "\n",
            "\rbanking_attrition.c   0%[                    ]       0  --.-KB/s               \rbanking_attrition.c  48%[========>           ]   1.86M  9.29MB/s               \rbanking_attrition.c 100%[===================>]   3.83M  12.4MB/s    in 0.3s    \n",
            "\n",
            "2020-03-30 22:14:24 (12.4 MB/s) - ‘banking_attrition.csv.1’ saved [4021593/4021593]\n",
            "\n"
          ],
          "name": "stdout"
        }
      ]
    },
    {
      "cell_type": "code",
      "metadata": {
        "id": "GJIqn5HT0Oia",
        "colab_type": "code",
        "colab": {}
      },
      "source": [
        "import os\n",
        "os.environ[\"JAVA_HOME\"]  = \"/usr/lib/jvm/java-8-openjdk-amd64\"\n",
        "os.environ[\"SPARK_HOME\"] = \"/content/spark-2.4.5-bin-hadoop2.7\"\n",
        "\n",
        "import datetime, time\n",
        "import re, random, sys\n",
        "\n",
        "# Note - Not all of these will be used, but I've added them for your reference as a \"getting started\"\n",
        "from pyspark import SparkContext\n",
        "from pyspark.sql import SparkSession\n",
        "from pyspark.sql.types import StructType, StructField, ArrayType, IntegerType, StringType, FloatType, LongType, DateType\n",
        "from pyspark.sql.functions import struct, array, lit, monotonically_increasing_id, col, expr, when, concat, udf, split, size, lag, count, isnull\n",
        "from pyspark.sql import Window\n",
        "from pyspark.ml.linalg import Vectors\n",
        "from pyspark.ml.regression import GBTRegressor, LinearRegression, GeneralizedLinearRegression, RandomForestRegressor\n",
        "from pyspark.ml.classification import GBTClassifier, RandomForestClassifier\n",
        "from pyspark.ml.feature import VectorIndexer, VectorAssembler, StringIndexer, IndexToString\n",
        "from pyspark.ml.evaluation import RegressionEvaluator\n",
        "from pyspark.ml import Pipeline, PipelineModel\n",
        "from pyspark.ml.evaluation import MulticlassClassificationEvaluator, RegressionEvaluator, BinaryClassificationEvaluator"
      ],
      "execution_count": 0,
      "outputs": []
    },
    {
      "cell_type": "code",
      "metadata": {
        "id": "iUR3Xsff0zI9",
        "colab_type": "code",
        "colab": {}
      },
      "source": [
        "#creat spark session\n",
        "spark = SparkSession.builder.appName(\"Spark ML Assignment\").master(\"local[*]\").getOrCreate()"
      ],
      "execution_count": 0,
      "outputs": []
    },
    {
      "cell_type": "code",
      "metadata": {
        "id": "9Y30zPC31A8s",
        "colab_type": "code",
        "colab": {}
      },
      "source": [
        "#load in the data\n",
        "training = spark.read.load('banking_attrition.csv', format=\"csv\", header=True, inferSchema=True)"
      ],
      "execution_count": 0,
      "outputs": []
    },
    {
      "cell_type": "code",
      "metadata": {
        "id": "XLjIyecd4B3v",
        "colab_type": "code",
        "outputId": "79ac04bb-4aa1-4f1d-eccb-218c89201dba",
        "colab": {
          "base_uri": "https://localhost:8080/",
          "height": 312
        }
      },
      "source": [
        "training.show(10,False)"
      ],
      "execution_count": 0,
      "outputs": [
        {
          "output_type": "stream",
          "text": [
            "+-------+---+---------+--------------+--------------+-----------+-------+-------+----+------+-------------+----------+-------+-----------------+---------+\n",
            "|uid    |age|age_group|profession    |marital_status|education  |default|housing|loan|gender|balance      |membership|charges|customer_contacts|attrition|\n",
            "+-------+---+---------+--------------+--------------+-----------+-------+-------+----+------+-------------+----------+-------+-----------------+---------+\n",
            "|1000001|69 |60s      |retired       |married       |high school|no     |no     |no  |female|$50k - $100k |gold      |74     |5                |0        |\n",
            "|1000002|46 |40s      |management    |married       |high school|yes    |no     |no  |male  |$10k - $50k  |silver    |149    |1                |0        |\n",
            "|1000003|45 |40s      |management    |married       |high school|no     |no     |no  |female|$100k - $250k|platinum  |58     |5                |1        |\n",
            "|1000004|54 |50s      |administration|divorced      |graduate   |no     |yes    |no  |female|$10k - $50k  |silver    |317    |4                |1        |\n",
            "|1000005|36 |30s      |management    |single        |high school|no     |yes    |no  |male  |$50k - $100k |gold      |139    |8                |0        |\n",
            "|1000006|25 |20s      |student       |married       |graduate   |no     |no     |no  |male  |Over $250k   |platinum  |21     |8                |0        |\n",
            "|1000007|54 |50s      |management    |single        |high school|no     |yes    |yes |female|Over $250k   |platinum  |128    |0                |0        |\n",
            "|1000008|49 |40s      |manufacturing |single        |graduate   |no     |yes    |yes |male  |$50k - $100k |gold      |40     |0                |0        |\n",
            "|1000009|30 |30s      |entrepreneur  |married       |graduate   |no     |no     |yes |male  |$100k - $250k|platinum  |126    |0                |0        |\n",
            "|1000010|43 |40s      |technician    |married       |high school|no     |no     |no  |female|$100k - $250k|platinum  |102    |1                |0        |\n",
            "+-------+---+---------+--------------+--------------+-----------+-------+-------+----+------+-------------+----------+-------+-----------------+---------+\n",
            "only showing top 10 rows\n",
            "\n"
          ],
          "name": "stdout"
        }
      ]
    },
    {
      "cell_type": "code",
      "metadata": {
        "id": "_5Bi6MVZai8t",
        "colab_type": "code",
        "colab": {}
      },
      "source": [
        "#drop unique identifiers\n",
        "columns_todrop=['uid', 'age']\n",
        "training = training.drop(*columns_todrop)"
      ],
      "execution_count": 0,
      "outputs": []
    },
    {
      "cell_type": "code",
      "metadata": {
        "id": "3Lw85bYy5CY5",
        "colab_type": "code",
        "outputId": "b562c4a9-7ba3-4ebf-aeb6-54499b427b3e",
        "colab": {
          "base_uri": "https://localhost:8080/",
          "height": 241
        }
      },
      "source": [
        "training.dtypes"
      ],
      "execution_count": 0,
      "outputs": [
        {
          "output_type": "execute_result",
          "data": {
            "text/plain": [
              "[('age_group', 'string'),\n",
              " ('profession', 'string'),\n",
              " ('marital_status', 'string'),\n",
              " ('education', 'string'),\n",
              " ('default', 'string'),\n",
              " ('housing', 'string'),\n",
              " ('loan', 'string'),\n",
              " ('gender', 'string'),\n",
              " ('balance', 'string'),\n",
              " ('membership', 'string'),\n",
              " ('charges', 'int'),\n",
              " ('customer_contacts', 'int'),\n",
              " ('attrition', 'int')]"
            ]
          },
          "metadata": {
            "tags": []
          },
          "execution_count": 318
        }
      ]
    },
    {
      "cell_type": "code",
      "metadata": {
        "id": "9fqi1cpaC7Vy",
        "colab_type": "code",
        "outputId": "feb047fe-60bb-4e6d-a547-9888c0b93722",
        "colab": {
          "base_uri": "https://localhost:8080/",
          "height": 450
        }
      },
      "source": [
        "#remove null values\n",
        "training = training.where(col(\"attrition\").isNotNull())\n",
        "\n",
        "#summary statistics\n",
        "training.describe().show()\n",
        "\n",
        "training.groupby(\"attrition\").avg(\"charges\").show()\n",
        "training.groupby(\"attrition\").avg(\"customer_contacts\").show()"
      ],
      "execution_count": 0,
      "outputs": [
        {
          "output_type": "stream",
          "text": [
            "+-------+---------+--------------+--------------+---------+-------+-------+-----+------+-------------+----------+------------------+------------------+-------------------+\n",
            "|summary|age_group|    profession|marital_status|education|default|housing| loan|gender|      balance|membership|           charges| customer_contacts|          attrition|\n",
            "+-------+---------+--------------+--------------+---------+-------+-------+-----+------+-------------+----------+------------------+------------------+-------------------+\n",
            "|  count|    45211|         45211|         45211|    45211|  45211|  45211|45211| 45211|        45211|     45211|             45211|             45211|              45211|\n",
            "|   mean|     null|          null|          null|     null|   null|   null| null|  null|         null|      null|123.77065315962929| 1.944593129990489|0.22560881201477517|\n",
            "| stddev|     null|          null|          null|     null|   null|   null| null|  null|         null|      null| 90.36019089570658|2.1048085675863932|0.41798724903398016|\n",
            "|    min|      20s|administration|      divorced|  college|     no|     no|   no|female|$100k - $250k|      gold|                 0|                 0|                  0|\n",
            "|    max|      U20|       unknown|        single|  unknown|    yes|    yes|  yes|  male|   Under $10k|    silver|               366|                 9|                  1|\n",
            "+-------+---------+--------------+--------------+---------+-------+-------+-----+------+-------------+----------+------------------+------------------+-------------------+\n",
            "\n",
            "+---------+-----------------+\n",
            "|attrition|     avg(charges)|\n",
            "+---------+-----------------+\n",
            "|        1|          239.645|\n",
            "|        0|90.01216760446717|\n",
            "+---------+-----------------+\n",
            "\n",
            "+---------+----------------------+\n",
            "|attrition|avg(customer_contacts)|\n",
            "+---------+----------------------+\n",
            "|        1|     2.981764705882353|\n",
            "|        0|    1.6424266659050013|\n",
            "+---------+----------------------+\n",
            "\n"
          ],
          "name": "stdout"
        }
      ]
    },
    {
      "cell_type": "code",
      "metadata": {
        "id": "0yy75k35guMu",
        "colab_type": "code",
        "colab": {}
      },
      "source": [
        "#creating binary indicator for binary variables\n",
        "training = training.withColumn('defaultBinary', when(col('default') == 'yes', 1).otherwise(0))\n",
        "training = training.withColumn('housingBinary', when(col('housing') == 'yes', 1).otherwise(0))\n",
        "training = training.withColumn('loanBinary', when(col('loan') == 'yes', 1).otherwise(0))\n",
        "training = training.withColumn('genderBinary', when(col('gender') == 'female', 1).otherwise(0))\n",
        "\n",
        "columns_to_drop = ['default', 'housing', 'loan', 'gender']\n",
        "training = training.drop(*columns_to_drop)"
      ],
      "execution_count": 0,
      "outputs": []
    },
    {
      "cell_type": "code",
      "metadata": {
        "id": "-Wi8VWopc0bs",
        "colab_type": "code",
        "colab": {}
      },
      "source": [
        "#test train split\n",
        "training_attrition, testing_attrition = training.randomSplit([0.8, 0.2], seed=12345)"
      ],
      "execution_count": 0,
      "outputs": []
    },
    {
      "cell_type": "code",
      "metadata": {
        "id": "BNTyWav0_GgG",
        "colab_type": "code",
        "colab": {}
      },
      "source": [
        "#creating string indexers for string columns\n",
        "categorical_columns = [item[0] for item in training_attrition.dtypes if item[1].startswith('string') ]\n",
        "\n",
        "indexers = [StringIndexer(inputCol=column, outputCol=column+\"_index\").fit(training_attrition) for column in categorical_columns ]\n"
      ],
      "execution_count": 0,
      "outputs": []
    },
    {
      "cell_type": "code",
      "metadata": {
        "id": "nEY55ZdnBAGW",
        "colab_type": "code",
        "colab": {}
      },
      "source": [
        "#build model pipeline\n",
        "target='attrition'\n",
        "\n",
        "features = ['charges', 'customer_contacts','defaultBinary', 'housingBinary',\n",
        "                   'loanBinary','genderBinary','age_group_index',\n",
        "                   'profession_index', 'marital_status_index',\n",
        "                   'education_index','balance_index',\n",
        "                   'membership_index']\n",
        "\n",
        "#encode the Label column: feature indexer\n",
        "fi=StringIndexer(inputCol='attrition', outputCol='label').fit(training_attrition)\n",
        "# Pipelines API requires that input variables are passed in  a vector\n",
        "va = VectorAssembler(inputCols=features, outputCol=\"features\")\n"
      ],
      "execution_count": 0,
      "outputs": []
    },
    {
      "cell_type": "code",
      "metadata": {
        "id": "nfSNtAvFPjpa",
        "colab_type": "code",
        "colab": {}
      },
      "source": [
        "# run the algorithm and build model\n",
        "rfr = RandomForestRegressor(featuresCol=\"features\", labelCol=target, predictionCol=\"prediction\", maxDepth=5, maxBins=350, seed=12345)\n",
        "\n",
        "# Convert indexed labels back to original labels, label converter\n",
        "labelConverter = IndexToString(inputCol=\"prediction\", outputCol=\"predictedLabel\", labels=fi.labels)"
      ],
      "execution_count": 0,
      "outputs": []
    },
    {
      "cell_type": "code",
      "metadata": {
        "id": "ml5MvETWPyAr",
        "colab_type": "code",
        "colab": {}
      },
      "source": [
        "#Training the model\n",
        "# Build the machine learning pipeline\n",
        "pipeline_train = Pipeline(stages=[*indexers, va, rfr, labelConverter])"
      ],
      "execution_count": 0,
      "outputs": []
    },
    {
      "cell_type": "code",
      "metadata": {
        "colab_type": "code",
        "id": "Dykn0rmIOQYr",
        "colab": {}
      },
      "source": [
        "rf_model = pipeline_train.fit(training_attrition)"
      ],
      "execution_count": 0,
      "outputs": []
    },
    {
      "cell_type": "code",
      "metadata": {
        "id": "vumYhdR9dD7d",
        "colab_type": "code",
        "outputId": "b8542987-ea1b-4e7a-ed2e-509e8bd3013a",
        "colab": {
          "base_uri": "https://localhost:8080/",
          "height": 192
        }
      },
      "source": [
        "# Make predictions.\n",
        "predictions = rf_model.transform(testing_attrition)\n",
        "\n",
        "# show the results\n",
        "predictions.show(3)"
      ],
      "execution_count": 0,
      "outputs": [
        {
          "output_type": "stream",
          "text": [
            "+---------+--------------+--------------+---------+-----------+----------+-------+-----------------+---------+-------------+-------------+----------+------------+---------------+----------------+--------------------+---------------+-------------+----------------+--------------------+------------------+--------------+\n",
            "|age_group|    profession|marital_status|education|    balance|membership|charges|customer_contacts|attrition|defaultBinary|housingBinary|loanBinary|genderBinary|age_group_index|profession_index|marital_status_index|education_index|balance_index|membership_index|            features|        prediction|predictedLabel|\n",
            "+---------+--------------+--------------+---------+-----------+----------+-------+-----------------+---------+-------------+-------------+----------+------------+---------------+----------------+--------------------+---------------+-------------+----------------+--------------------+------------------+--------------+\n",
            "|      20s|administration|      divorced|  college|$10k - $50k|    silver|    203|                3|        1|            0|            0|         1|           1|            3.0|             3.0|                 2.0|            2.0|          1.0|             1.0|[203.0,3.0,0.0,0....|0.9937803263039455|             0|\n",
            "|      20s|administration|      divorced|  college|$10k - $50k|    silver|    205|                3|        1|            0|            1|         0|           1|            3.0|             3.0|                 2.0|            2.0|          1.0|             1.0|[205.0,3.0,0.0,1....|0.9965679371741059|             0|\n",
            "|      20s|administration|      divorced|  college|$10k - $50k|    silver|    206|                3|        1|            0|            1|         0|           1|            3.0|             3.0|                 2.0|            2.0|          1.0|             1.0|[206.0,3.0,0.0,1....|0.9965679371741059|             0|\n",
            "+---------+--------------+--------------+---------+-----------+----------+-------+-----------------+---------+-------------+-------------+----------+------------+---------------+----------------+--------------------+---------------+-------------+----------------+--------------------+------------------+--------------+\n",
            "only showing top 3 rows\n",
            "\n"
          ],
          "name": "stdout"
        }
      ]
    },
    {
      "cell_type": "code",
      "metadata": {
        "id": "7oIeWbsUdYzb",
        "colab_type": "code",
        "outputId": "918d1f72-2d3d-4e05-a2f5-7855c15db767",
        "colab": {
          "base_uri": "https://localhost:8080/",
          "height": 34
        }
      },
      "source": [
        "#generate results\n",
        "predictions=predictions.select(predictions[\"attrition\"],predictions[\"predictedLabel\"],predictions[\"prediction\"])\n",
        "type(predictions)"
      ],
      "execution_count": 0,
      "outputs": [
        {
          "output_type": "execute_result",
          "data": {
            "text/plain": [
              "pyspark.sql.dataframe.DataFrame"
            ]
          },
          "metadata": {
            "tags": []
          },
          "execution_count": 343
        }
      ]
    },
    {
      "cell_type": "code",
      "metadata": {
        "id": "MJhv2N-bermG",
        "colab_type": "code",
        "outputId": "5f4fcd81-6b64-4332-f328-56065714f3e5",
        "colab": {
          "base_uri": "https://localhost:8080/",
          "height": 206
        }
      },
      "source": [
        "predictions.show(5)"
      ],
      "execution_count": 0,
      "outputs": [
        {
          "output_type": "stream",
          "text": [
            "+---------+--------------+------------------+\n",
            "|attrition|predictedLabel|        prediction|\n",
            "+---------+--------------+------------------+\n",
            "|        1|             0|0.9937803263039455|\n",
            "|        1|             0|0.9965679371741059|\n",
            "|        1|             0|0.9965679371741059|\n",
            "|        1|             0|0.9965679371741059|\n",
            "|        1|             0|0.9971278690455131|\n",
            "+---------+--------------+------------------+\n",
            "only showing top 5 rows\n",
            "\n"
          ],
          "name": "stdout"
        }
      ]
    },
    {
      "cell_type": "code",
      "metadata": {
        "id": "n8zaeAtWeyI9",
        "colab_type": "code",
        "outputId": "dd5251ee-94a0-429b-c180-22fd01ea47e7",
        "colab": {
          "base_uri": "https://localhost:8080/",
          "height": 51
        }
      },
      "source": [
        "# Model Evaluation\n",
        "#Evaluate Results\n",
        "evaluator = RegressionEvaluator(metricName=\"rmse\", labelCol=target)  # rmse (default)|mse|r2|mae\n",
        "RMSE = evaluator.evaluate(predictions)\n",
        "print('RMSE: ' + str(RMSE))\n",
        "\n",
        "evaluator = RegressionEvaluator(metricName=\"mae\", labelCol=target)  # rmse (default)|mse|r2|mae\n",
        "MAE = evaluator.evaluate(predictions) # Mean Absolute Error\n",
        "print('MSE: ' + str(MAE))"
      ],
      "execution_count": 0,
      "outputs": [
        {
          "output_type": "stream",
          "text": [
            "RMSE: 0.21897943846019907\n",
            "MSE: 0.09610222832883476\n"
          ],
          "name": "stdout"
        }
      ]
    }
  ]
}